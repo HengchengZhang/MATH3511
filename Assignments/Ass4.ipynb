{
 "cells": [
  {
   "cell_type": "markdown",
   "metadata": {},
   "source": [
    "## Q1 b)"
   ]
  },
  {
   "cell_type": "code",
   "execution_count": 1,
   "metadata": {},
   "outputs": [],
   "source": [
    "import numpy as np\n",
    "import scipy.integrate\n",
    "import matplotlib.pyplot as plt"
   ]
  },
  {
   "cell_type": "code",
   "execution_count": 2,
   "metadata": {},
   "outputs": [],
   "source": [
    "def f(x):\n",
    "    return  pow(x,18) / (x + 7)\n",
    "a = 0; b = 1"
   ]
  },
  {
   "cell_type": "code",
   "execution_count": 3,
   "metadata": {},
   "outputs": [
    {
     "name": "stdout",
     "output_type": "stream",
     "text": [
      "The approximation of x18 is  0.006620563824579688 , the error is  7.350302394048756e-17\n"
     ]
    }
   ],
   "source": [
    "x18, err = scipy.integrate.quad(f, a, b)\n",
    "print(\"The approximation of x18 is \", x18, \", the error is \", err)"
   ]
  },
  {
   "cell_type": "code",
   "execution_count": 4,
   "metadata": {},
   "outputs": [],
   "source": [
    "def fb(x,n):\n",
    "    return (1/n - x) / 7\n",
    "def ff(x,n):\n",
    "    return 1/n - 7*x"
   ]
  },
  {
   "cell_type": "code",
   "execution_count": 5,
   "metadata": {},
   "outputs": [
    {
     "name": "stdout",
     "output_type": "stream",
     "text": [
      "xn by backward recurrence formulas:\n",
      "[0.13353139 0.06528025 0.04303824 0.03206566 0.02554036 0.02121749\n",
      " 0.01814422 0.01584763 0.01406657 0.01264509 0.01148435 0.01051866\n",
      " 0.0097027  0.00900417 0.00839942 0.00787076 0.00740469 0.00699071\n",
      " 0.00662056]\n"
     ]
    }
   ],
   "source": [
    "xb = np.zeros(19)\n",
    "xb[18] = x18\n",
    "for i in range(len(xb)-2,-1,-1):\n",
    "    xb[i] = fb(xb[i+1],i+1)\n",
    "print(f\"xn by backward recurrence formulas:\\n{xb}\")"
   ]
  },
  {
   "cell_type": "code",
   "execution_count": 6,
   "metadata": {},
   "outputs": [
    {
     "name": "stdout",
     "output_type": "stream",
     "text": [
      "xn by forward recurrence formulas:\n",
      "[ 0.13353139  0.06528025  0.04303824  0.03206566  0.02554036  0.02121749\n",
      "  0.01814422  0.01584763  0.01406657  0.0126451   0.01148433  0.01051875\n",
      "  0.00970209  0.00900842  0.00836967  0.008079    0.00594698  0.01719466\n",
      " -0.06480705]\n"
     ]
    }
   ],
   "source": [
    "xf = np.zeros(19)\n",
    "xf[0] = np.log(8/7)\n",
    "for i in range(1,len(xf)):\n",
    "    xf[i] = ff(xf[i-1],i)\n",
    "print(f\"xn by forward recurrence formulas:\\n{xf}\")"
   ]
  },
  {
   "cell_type": "markdown",
   "metadata": {},
   "source": [
    "The result given by backwards recurrence formulas is much more accurate than that of forward recurrence formulas."
   ]
  },
  {
   "cell_type": "code",
   "execution_count": 7,
   "metadata": {},
   "outputs": [
    {
     "name": "stdout",
     "output_type": "stream",
     "text": [
      " the difference between x0 times 7^18 -0.09039511350064361\n",
      " the difference between x18 -0.0714276134172489\n"
     ]
    }
   ],
   "source": [
    "float_info = np.finfo(float)\n",
    "x0err = xf[0] - xb[0]\n",
    "x18err = xf[18]-xb[18]\n",
    "print(f\" the difference between x0 times 7^18 {x0err*pow(7,18)}\\n the difference between x18 {x18err}\")"
   ]
  },
  {
   "cell_type": "code",
   "execution_count": 8,
   "metadata": {},
   "outputs": [
    {
     "name": "stdout",
     "output_type": "stream",
     "text": [
      "absolute value of errors are \n",
      "[5.55111512e-17 3.05311332e-16 2.15105711e-15 1.50435220e-14\n",
      " 1.05315062e-13 7.37212374e-13 5.16047621e-12 3.61233231e-11\n",
      " 2.52863263e-10 1.77004285e-09 1.23902999e-08 8.67320995e-08\n",
      " 6.07124696e-07 4.24987288e-06 2.97491101e-05 2.08243771e-04\n",
      " 1.45770640e-03 1.02039448e-02 7.14276134e-02]\n"
     ]
    },
    {
     "data": {
      "image/png": "[encoded data removed]",
      "text/plain": [
       "<Figure size 936x576 with 1 Axes>"
      ]
     },
     "metadata": {
      "needs_background": "light"
     },
     "output_type": "display_data"
    }
   ],
   "source": [
    "error = abs(xf-xb)\n",
    "print(f\"absolute value of errors are \\n{error}\")\n",
    "n = np.linspace(0,18,19)\n",
    "plt. figure(figsize= (13,8))\n",
    "# plt.axes(yscale = \"log\")\n",
    "plt.scatter(n,np.log(error),label='log(error)') \n",
    "plt.title('Errors against number of iterations')\n",
    "plt. xlabel('n')\n",
    "plt.ylabel('log(error)')\n",
    "plt. xlim(0,18)\n",
    "plt.ylim(-40,0)\n",
    "plt.legend(loc='best')\n",
    "plt.grid()\n",
    "plt.show()"
   ]
  },
  {
   "cell_type": "code",
   "execution_count": 9,
   "metadata": {},
   "outputs": [
    {
     "name": "stdout",
     "output_type": "stream",
     "text": [
      " the difference between x0 times 7^18 -0.09039511350064361\n",
      " the difference between x18 -0.0714276134172489\n"
     ]
    }
   ],
   "source": [
    "float_info = np.finfo(float)\n",
    "x0err = xf[0] - xb[0]\n",
    "x18err = xf[18]-xb[18]\n",
    "print(f\" the difference between x0 times 7^18 {x0err*pow(7,18)}\\n the difference between x18 {x18err}\")"
   ]
  },
  {
   "cell_type": "markdown",
   "metadata": {},
   "source": [
    "The errors clearly forms a line in log scale, this means the error is multiplied by a certain number when we using the reccurence formulae to find the result. We can clearly find that when applying forwards and backwards recurrence formulas, together with the value of xn, the error is multiplies by 7 and 1/7 in each iteration respectively. Therefore after a number of iterations, the error by forwards reccurence formula is multiplied by 7^18 which is obviously a large number, while the error in backwards reccurence formula is multiplied by (1/7)^18, which makes the starting error extermly small. The above results proves the error is roughly multiplied by 7^18 after 18 iterations."
   ]
  }
 ],
 "metadata": {
  "interpreter": {
   "hash": "aee8b7b246df8f9039afb4144a1f6fd8d2ca17a180786b69acc140d282b71a49"
  },
  "kernelspec": {
   "display_name": "Python 3",
   "language": "python",
   "name": "python3"
  },
  "language_info": {
   "codemirror_mode": {
    "name": "ipython",
    "version": 3
   },
   "file_extension": ".py",
   "mimetype": "text/x-python",
   "name": "python",
   "nbconvert_exporter": "python",
   "pygments_lexer": "ipython3",
   "version": "3.7.6"
  }
 },
 "nbformat": 4,
 "nbformat_minor": 2
}
