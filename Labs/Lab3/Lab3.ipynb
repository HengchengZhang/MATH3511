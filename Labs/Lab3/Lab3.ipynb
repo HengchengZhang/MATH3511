{
 "cells": [
  {
   "cell_type": "code",
   "execution_count": 1,
   "metadata": {},
   "outputs": [],
   "source": [
    "import numpy as np\n",
    "import math\n",
    "import scipy.integrate\n",
    "import matplotlib.pyplot as plt"
   ]
  },
  {
   "cell_type": "code",
   "execution_count": 2,
   "metadata": {},
   "outputs": [
    {
     "name": "stdout",
     "output_type": "stream",
     "text": [
      "2.220446049250313e-16\n"
     ]
    }
   ],
   "source": [
    "# Get floating-point information for default float data type\n",
    "float_info = np.finfo(float)\n",
    "# Machine epsilon\n",
    "print(float_info.eps)"
   ]
  },
  {
   "cell_type": "markdown",
   "metadata": {},
   "source": [
    "## Lab Book 01"
   ]
  },
  {
   "cell_type": "code",
   "execution_count": 3,
   "metadata": {},
   "outputs": [
    {
     "name": "stdout",
     "output_type": "stream",
     "text": [
      "the largest positive finite machine number is 1.7976931348623157e+308\n",
      "the largest absolute value of negative finite machine number is 1.7976931348623157e+308\n",
      "smallest positive machine number is 2.2250738585072014e-308\n"
     ]
    }
   ],
   "source": [
    "# a)\n",
    "print(\"the largest positive finite machine number is\", float_info.max)\n",
    "# b)\n",
    "print(\"the largest absolute value of negative finite machine number is\", abs(float_info.min))\n",
    "# c)\n",
    "print(\"smallest positive machine number is\", float_info.tiny)"
   ]
  },
  {
   "cell_type": "code",
   "execution_count": 4,
   "metadata": {},
   "outputs": [
    {
     "name": "stdout",
     "output_type": "stream",
     "text": [
      "[nan  1.  1.  1.  1.]\n",
      "[       inf 1.         0.5        0.33333333 0.25      ]\n",
      "True\n",
      "False\n",
      "False False False\n"
     ]
    },
    {
     "name": "stderr",
     "output_type": "stream",
     "text": [
      "/Users/x_x/opt/anaconda3/lib/python3.7/site-packages/ipykernel_launcher.py:3: RuntimeWarning: invalid value encountered in true_divide\n",
      "  This is separate from the ipykernel package so we can avoid doing imports until\n",
      "/Users/x_x/opt/anaconda3/lib/python3.7/site-packages/ipykernel_launcher.py:6: RuntimeWarning: divide by zero encountered in true_divide\n",
      "  \n"
     ]
    }
   ],
   "source": [
    "# Generate np.nan\n",
    "x = np.arange(5)\n",
    "print(x / x)\n",
    "# Generate np.inf\n",
    "y = np.ones((5,))\n",
    "print(y / x)\n",
    "# Is infinity equal to itself?\n",
    "print(np.inf == np.inf)\n",
    "# Is nan equal to itself?\n",
    "print(np.nan == np.nan)\n",
    "# Compare nan to other values\n",
    "print(np.nan < 0, np.nan == 0, np.nan > 0)\n"
   ]
  },
  {
   "cell_type": "code",
   "execution_count": 5,
   "metadata": {},
   "outputs": [
    {
     "name": "stdout",
     "output_type": "stream",
     "text": [
      "True\n",
      "False\n",
      "True\n"
     ]
    }
   ],
   "source": [
    "print(1+2==3)\n",
    "print(0.1+0.2==0.3)\n",
    "print(0.1+0.2+0.7==1)"
   ]
  },
  {
   "cell_type": "markdown",
   "metadata": {},
   "source": [
    "## Lab Book 02"
   ]
  },
  {
   "cell_type": "code",
   "execution_count": 6,
   "metadata": {},
   "outputs": [
    {
     "name": "stdout",
     "output_type": "stream",
     "text": [
      "sin(pi) =  1.2246467991473532e-16\n",
      "cos(pi/2) =  6.123233995736766e-17\n",
      "sin(pi/2) =  1.0\n",
      "cos(0) =  1.0\n",
      "cos(pi) =  -1.0\n"
     ]
    }
   ],
   "source": [
    "print(\"sin(pi) = \",math.sin(math.pi))\n",
    "print(\"cos(pi/2) = \",math.cos(0.5*math.pi))\n",
    "print(\"sin(pi/2) = \",math.sin(0.5*math.pi))\n",
    "print(\"cos(0) = \",math.cos(0))\n",
    "print(\"cos(pi) = \",math.cos(math.pi))"
   ]
  },
  {
   "cell_type": "markdown",
   "metadata": {},
   "source": [
    "When the value of sin or cos should be 0, python can't return the exact value but can only return extremely small number. When the value should be +-1, python can give the exactly right answer."
   ]
  },
  {
   "cell_type": "markdown",
   "metadata": {},
   "source": [
    "## Lab Book 03"
   ]
  },
  {
   "cell_type": "code",
   "execution_count": 7,
   "metadata": {},
   "outputs": [],
   "source": [
    "def f(x):\n",
    "    return (np.cos(2*x)-1) / pow(x,2)\n",
    "def taylorF(x):\n",
    "    return 2 * pow(x,2)/3 - 2\n",
    "def alterF(x):\n",
    "    return -2 * pow(np.sin(x),2) / pow(x,2)"
   ]
  },
  {
   "cell_type": "code",
   "execution_count": 8,
   "metadata": {},
   "outputs": [
    {
     "name": "stdout",
     "output_type": "stream",
     "text": [
      "x =  0.01\n",
      "f(x) =  -1.9999333342224368\n",
      "result of Talor series =  -1.9999333333333333 , the error is  8.891034575242429e-10\n",
      "improved result =  -1.9999333342222159 the difference with Taylor series is  8.888825231423425e-10\n",
      "x =  0.001\n",
      "f(x) =  -1.999999333368585\n",
      "result of Talor series =  -1.9999993333333332 , the error is  3.525180147789797e-11\n",
      "improved result =  -1.9999993333334223 the difference with Taylor series is  8.903988657493755e-14\n",
      "x =  0.0001\n",
      "f(x) =  -1.999999987845058\n",
      "result of Talor series =  -1.9999999933333332 , the error is  5.488275167664369e-09\n",
      "improved result =  -1.9999999933333334 the difference with Taylor series is  2.220446049250313e-16\n",
      "x =  1e-05\n",
      "f(x) =  -2.0000001654807416\n",
      "result of Talor series =  -1.9999999999333333 , the error is  1.6554740822627423e-07\n",
      "improved result =  -1.999999999933333 the difference with Taylor series is  2.220446049250313e-16\n",
      "x =  1e-06\n",
      "f(x) =  -1.999955756559757\n",
      "result of Talor series =  -1.9999999999993334 , the error is  4.424343957643018e-05\n",
      "improved result =  -1.9999999999993332 the difference with Taylor series is  2.220446049250313e-16\n",
      "x =  1e-07\n",
      "f(x) =  -1.998401444325282\n",
      "result of Talor series =  -1.9999999999999933 , the error is  0.0015985556747113439\n",
      "improved result =  -1.9999999999999933 the difference with Taylor series is  0.0\n",
      "x =  1e-08\n",
      "f(x) =  -2.2204460492503126\n",
      "result of Talor series =  -2.0 , the error is  0.22044604925031264\n",
      "improved result =  -2.0 the difference with Taylor series is  0.0\n",
      "x =  1e-09\n",
      "f(x) =  0.0\n",
      "result of Talor series =  -2.0 , the error is  2.0\n",
      "improved result =  -2.0 the difference with Taylor series is  0.0\n",
      "x =  1e-10\n",
      "f(x) =  0.0\n",
      "result of Talor series =  -2.0 , the error is  2.0\n",
      "improved result =  -2.0 the difference with Taylor series is  0.0\n"
     ]
    }
   ],
   "source": [
    "x=np.array([1e-2,1e-3,1e-4,1e-5,1e-6,1e-7,1e-8,1e-9,1e-10])\n",
    "for item in x:\n",
    "    print(\"x = \", item)\n",
    "    print(\"f(x) = \", f(item))\n",
    "    print(\"result of Talor series = \", taylorF(item), \", the error is \", abs(f(item)-taylorF(item)))\n",
    "    print(\"improved result = \", alterF(item), \"the difference with Taylor series is \", abs(taylorF(item)-alterF(item)))"
   ]
  },
  {
   "cell_type": "markdown",
   "metadata": {},
   "source": [
    "Python has an bigger error when x is smaller when calculating f(x) because of the subtraction in numerator will lead to catastrophic cancellation when two values are close to 0 and therefore leads to big error."
   ]
  },
  {
   "cell_type": "markdown",
   "metadata": {},
   "source": [
    "## Lab Book 04"
   ]
  },
  {
   "cell_type": "code",
   "execution_count": 9,
   "metadata": {},
   "outputs": [
    {
     "name": "stdout",
     "output_type": "stream",
     "text": [
      "x =  0.01\n",
      "exp(x) =  0.010050167084167949\n",
      "expm1(x) =  0.010050167084168058\n",
      "Taylor series =  0.010050167084167949\n",
      "x =  0.001\n",
      "exp(x) =  0.0010005001667083846\n",
      "expm1(x) =  0.0010005001667083417\n",
      "Taylor series =  0.0010005001667083846\n",
      "x =  0.0001\n",
      "exp(x) =  0.0001000050001667141\n",
      "expm1(x) =  0.00010000500016667084\n",
      "Taylor series =  0.0001000050001667141\n",
      "x =  1e-05\n",
      "exp(x) =  1.0000050000069649e-05\n",
      "expm1(x) =  1.0000050000166668e-05\n",
      "Taylor series =  1.0000050000069649e-05\n",
      "x =  1e-06\n",
      "exp(x) =  1.0000004999621837e-06\n",
      "expm1(x) =  1.0000005000001665e-06\n",
      "Taylor series =  1.0000004999621837e-06\n",
      "x =  1e-07\n",
      "exp(x) =  1.0000000494336803e-07\n",
      "expm1(x) =  1.0000000500000016e-07\n",
      "Taylor series =  1.0000000494336803e-07\n",
      "x =  1e-08\n",
      "exp(x) =  9.99999993922529e-09\n",
      "expm1(x) =  1.0000000050000001e-08\n",
      "Taylor series =  9.99999993922529e-09\n",
      "x =  1e-09\n",
      "exp(x) =  1.000000082740371e-09\n",
      "expm1(x) =  1.0000000005000001e-09\n",
      "Taylor series =  1.000000082740371e-09\n",
      "x =  1e-10\n",
      "exp(x) =  1.000000082740371e-10\n",
      "expm1(x) =  1.00000000005e-10\n",
      "Taylor series =  1.000000082740371e-10\n"
     ]
    }
   ],
   "source": [
    "def expTaylor(x):\n",
    "    term = 1.0\n",
    "    result = 0.0\n",
    "    n = 1\n",
    "    while term + result != result:\n",
    "        term = pow(x,n) / math.factorial(n)\n",
    "        result += term\n",
    "        n += 1\n",
    "    return result + 1\n",
    "for item in x:\n",
    "    print(\"x = \", item)\n",
    "    print(\"exp(x) = \",math.exp(item)-1)\n",
    "    print(\"expm1(x) = \",math.expm1(item))\n",
    "    print(\"Taylor series = \",expTaylor(item)-1)"
   ]
  },
  {
   "cell_type": "markdown",
   "metadata": {},
   "source": [
    "Since e^x is quite close to 1 when x is close to 0, therefore the digits after 1 can not be stored properly and when calculating e^x -1, the catastrophic cancellation will occur and lead to inaccurate results compared to expm1(x). Similar error occurs when using Taylor series expansion due to the same result."
   ]
  },
  {
   "cell_type": "markdown",
   "metadata": {},
   "source": [
    "## Lab Book 05"
   ]
  },
  {
   "cell_type": "code",
   "execution_count": 10,
   "metadata": {},
   "outputs": [],
   "source": [
    "def f(x):\n",
    "    return math.exp(x) - math.cos(x)\n",
    "def df(x):\n",
    "    return math.exp(x) + math.sin(x)"
   ]
  },
  {
   "cell_type": "code",
   "execution_count": 11,
   "metadata": {},
   "outputs": [
    {
     "data": {
      "text/plain": [
       "<function matplotlib.pyplot.show(*args, **kw)>"
      ]
     },
     "execution_count": 11,
     "metadata": {},
     "output_type": "execute_result"
    },
    {
     "data": {
      "image/png": "[encoded data removed]",
      "text/plain": [
       "<Figure size 936x576 with 1 Axes>"
      ]
     },
     "metadata": {
      "needs_background": "light"
     },
     "output_type": "display_data"
    }
   ],
   "source": [
    "# Decreasing sequence of h values\n",
    "hs = 2**(-np.linspace(0,30,128))\n",
    "# Make an empty vector of errors\n",
    "forward_error = np.zeros((len(hs),))\n",
    "central_error = np.zeros((len(hs),))\n",
    "for i in range(len(hs)):\n",
    "    h = hs[i]  # current value of h\n",
    "    forward_error[i] = (f(1+h) - f(1)) / h - df(1)\n",
    "    central_error[i] = (f(1+h) - f(1-h)) / (2*h) - df(1)\n",
    "# The below vectors show the error decrease for particular orders of convergence\n",
    "first_order_rate = hs      # plot hs vs first_order_rate to see O(h) convergence\n",
    "second_order_rate = hs**2  # plot hs vs second_order_rate to see O(h^2) convergence rate\n",
    "\n",
    "# Plot hs vs forward_error and central_error (on a log-log plot)\n",
    "plt.figure(figsize = (13,8))\n",
    "plt.clf()\n",
    "plt.loglog(hs, forward_error,'.', label = \"forward error\", color='cornflowerblue')\n",
    "plt.loglog(hs, central_error,'.', label = \"central error\", color = 'palegreen')\n",
    "plt.loglog(hs, first_order_rate, label = \"O(h)\", color = 'royalblue')\n",
    "plt.loglog(hs, second_order_rate, label = \"O(h^2)\", color='springgreen')\n",
    "plt.legend(loc = 'best')\n",
    "ax = plt.gca()\n",
    "ax.invert_xaxis()\n",
    "plt.ylim(1e-12,1)\n",
    "plt.show"
   ]
  },
  {
   "cell_type": "markdown",
   "metadata": {},
   "source": [
    "As h approaches 0, the forward error is almost the same as O(h)'s convergence rate before reaching the machine epsilon, which suggests it's order of convergence is 1. Similarly, the central error is almost the same as O(h^2) before reaching the machine epsilon, therefore it has an order of convergence of 2."
   ]
  },
  {
   "cell_type": "markdown",
   "metadata": {},
   "source": [
    "## Lab Book 06"
   ]
  },
  {
   "cell_type": "code",
   "execution_count": 12,
   "metadata": {},
   "outputs": [
    {
     "data": {
      "text/plain": [
       "<function matplotlib.pyplot.show(*args, **kw)>"
      ]
     },
     "execution_count": 12,
     "metadata": {},
     "output_type": "execute_result"
    },
    {
     "data": {
      "image/png": "[encoded data removed]",
      "text/plain": [
       "<Figure size 936x576 with 1 Axes>"
      ]
     },
     "metadata": {
      "needs_background": "light"
     },
     "output_type": "display_data"
    }
   ],
   "source": [
    "def d2f(x):\n",
    "    return math.exp(x) + math.cos(x)\n",
    "second_error = np.zeros((len(hs),))\n",
    "for i in range(len(hs)):\n",
    "    h = hs[i]\n",
    "    second_error[i] = (f(1+h) - 2*f(1) + f(1-h)) / pow(h,2) - d2f(1)\n",
    "\n",
    "plt.figure(figsize = (13,8))\n",
    "plt.clf()\n",
    "plt.loglog(hs, second_error,'.', label = \"second derivative error\",)\n",
    "plt.loglog(hs, second_order_rate, label = \"O(h^2)\")\n",
    "plt.legend(loc = 'best')\n",
    "plt.xlim(1e-5,1)\n",
    "plt.ylim(1e-11,)\n",
    "ax = plt.gca()\n",
    "ax.invert_xaxis()\n",
    "plt.show"
   ]
  },
  {
   "cell_type": "markdown",
   "metadata": {},
   "source": [
    "As h approaches to 0, the error of second order derivative's approximation is almost the same as O(h^2)'s convergence rate before reaching the machine epsilon, this suggests that it's order of convergence is 2."
   ]
  },
  {
   "cell_type": "markdown",
   "metadata": {},
   "source": [
    "## Lab Book 07"
   ]
  },
  {
   "cell_type": "code",
   "execution_count": 13,
   "metadata": {},
   "outputs": [],
   "source": [
    "def left_riemann_sum(xs, ys):\n",
    "    n = len(xs)\n",
    "    if len(xs) != len(ys):\n",
    "        return np.NaN\n",
    "    integrals = np.zeros(n)\n",
    "    x0s = xs[:n-1]\n",
    "    x1s = xs[1:]\n",
    "    integrals = (x1s-x0s) * ys[:n-1]\n",
    "    return sum(integrals)\n",
    "def f(x):\n",
    "    return math.exp(-x)"
   ]
  },
  {
   "cell_type": "code",
   "execution_count": 14,
   "metadata": {},
   "outputs": [
    {
     "name": "stdout",
     "output_type": "stream",
     "text": [
      "Left Riemann sum = 2.374223762501847\n",
      "True value is around 2.350402387287603\n"
     ]
    }
   ],
   "source": [
    "a = -1\n",
    "b = 1\n",
    "n = 100\n",
    "xs = np.linspace(a, b, n)  # equally spaced points xi\n",
    "ys = np.zeros(n)\n",
    "for i in range(n-1):\n",
    "    ys[i] = f(xs[i])\n",
    "print(\"Left Riemann sum =\", left_riemann_sum(xs, ys))\n",
    "print(\"True value is around 2.350402387287603\")"
   ]
  },
  {
   "cell_type": "markdown",
   "metadata": {},
   "source": [
    "The left Reimann Sum can roughly approximate the integral and has 2 acutare digits. The accuracy can also be improved by adding more points and make each points closer but in a raletively low convergence rate."
   ]
  },
  {
   "cell_type": "markdown",
   "metadata": {},
   "source": [
    "## Lab Book 08"
   ]
  },
  {
   "cell_type": "code",
   "execution_count": 15,
   "metadata": {},
   "outputs": [],
   "source": [
    "def trapezoidal_rule(xs, ys):\n",
    "    n = len(xs)\n",
    "    if len(xs) != len(ys):\n",
    "        return np.NaN\n",
    "    integrals = np.zeros(n)\n",
    "    x0s = xs[:n-1]\n",
    "    x1s = xs[1:]\n",
    "    y0s =  ys[:n-1]\n",
    "    y1s =ys[1:]\n",
    "    integrals = (x1s-x0s) * (y0s+y1s) / 2\n",
    "    return sum(integrals)"
   ]
  },
  {
   "cell_type": "code",
   "execution_count": 16,
   "metadata": {},
   "outputs": [
    {
     "name": "stdout",
     "output_type": "stream",
     "text": [
      "Trapezoidal Rule = 2.346766370295189\n",
      "Left Riemann sum = 2.374223762501847\n",
      "True value is around 2.350402387287603\n"
     ]
    }
   ],
   "source": [
    "print(\"Trapezoidal Rule =\", trapezoidal_rule(xs, ys))\n",
    "print(\"Left Riemann sum =\", left_riemann_sum(xs, ys))\n",
    "print(\"True value is around 2.350402387287603\")"
   ]
  },
  {
   "cell_type": "markdown",
   "metadata": {},
   "source": [
    "The Trapezoidal Rule clearly has a much more accuracy with same number of points although it also can only give two accurate digits. When incresing the number of points, the Trapezoidal Rule has a faster convergence rate than left Riemann Sum."
   ]
  },
  {
   "cell_type": "markdown",
   "metadata": {},
   "source": [
    "## Lab Book 09"
   ]
  },
  {
   "cell_type": "code",
   "execution_count": 17,
   "metadata": {},
   "outputs": [],
   "source": [
    "def runges(x):\n",
    "    return 1 / (1 + 25*pow(x,2))"
   ]
  },
  {
   "cell_type": "code",
   "execution_count": 18,
   "metadata": {},
   "outputs": [
    {
     "name": "stdout",
     "output_type": "stream",
     "text": [
      "Simpson's Rule =  0.5493758748195977\n",
      "Gaussian Quadrature =  0.548997098104952\n",
      "True value is around 0.549360307\n"
     ]
    }
   ],
   "source": [
    "n = 20\n",
    "xs = np.linspace(a, b, n)  # equally spaced points xi\n",
    "ys = runges(xs)\n",
    "print(\"Simpson's Rule = \", scipy.integrate.simps(ys, xs))\n",
    "print(\"Gaussian Quadrature = \", scipy.integrate.fixed_quad(runges, a, b, n = n)[0])\n",
    "print(\"True value is around 0.549360307\")"
   ]
  },
  {
   "cell_type": "markdown",
   "metadata": {},
   "source": [
    "Both ways gives three acurate digits compared to the ture value. The Simpson's Rule in python is more accurate than Gaussian Quadrature and have errors at 10^5 and 10^-3 respectively."
   ]
  },
  {
   "cell_type": "markdown",
   "metadata": {},
   "source": [
    "## Lab Book 10"
   ]
  },
  {
   "cell_type": "code",
   "execution_count": 19,
   "metadata": {},
   "outputs": [
    {
     "name": "stdout",
     "output_type": "stream",
     "text": [
      "The approximation is  0.5493603067780066 , the error is  2.8668279350011863e-09\n"
     ]
    }
   ],
   "source": [
    "print(\"The approximation is \", scipy.integrate.quad(runges, a, b)[0], \", the error is \", scipy.integrate.quad(runges, a, b)[1])"
   ]
  },
  {
   "cell_type": "markdown",
   "metadata": {},
   "source": [
    "The output is quite accurate compared to the true value and the error is at 10^-9, which is a very small error compared to the above two methods."
   ]
  },
  {
   "cell_type": "code",
   "execution_count": null,
   "metadata": {},
   "outputs": [],
   "source": []
  }
 ],
 "metadata": {
  "interpreter": {
   "hash": "6b55f2c5758f94475f4f7183eca0917db64713a141a094f87423d7ec135e764d"
  },
  "kernelspec": {
   "display_name": "Python 3",
   "language": "python",
   "name": "python3"
  },
  "language_info": {
   "codemirror_mode": {
    "name": "ipython",
    "version": 3
   },
   "file_extension": ".py",
   "mimetype": "text/x-python",
   "name": "python",
   "nbconvert_exporter": "python",
   "pygments_lexer": "ipython3",
   "version": "3.7.6"
  }
 },
 "nbformat": 4,
 "nbformat_minor": 2
}
