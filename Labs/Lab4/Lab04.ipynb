{
 "cells": [
  {
   "cell_type": "code",
   "execution_count": 6,
   "metadata": {},
   "outputs": [],
   "source": [
    "import numpy as np\n",
    "import scipy.linalg as linalg\n",
    "import matplotlib.pyplot as plt\n",
    "import scipy.sparse as sparse\n",
    "from scipy.sparse.linalg import spsolve\n",
    "import time\n",
    "import timeit\n"
   ]
  },
  {
   "cell_type": "markdown",
   "metadata": {},
   "source": [
    "## Lab Book 01"
   ]
  },
  {
   "cell_type": "code",
   "execution_count": 9,
   "metadata": {},
   "outputs": [
    {
     "name": "stdout",
     "output_type": "stream",
     "text": [
      "[1. 2. 3. 4. 5.]\n",
      "[[1. 2. 3.]\n",
      " [4. 5. 6.]\n",
      " [7. 8. 9.]]\n"
     ]
    }
   ],
   "source": [
    "x = np.linspace(1, 5, 5)\n",
    "print(x)\n",
    "A = (np.linspace(1, 9, 9)).reshape((3, 3))\n",
    "print(A)\n"
   ]
  },
  {
   "cell_type": "code",
   "execution_count": 11,
   "metadata": {},
   "outputs": [
    {
     "name": "stdout",
     "output_type": "stream",
     "text": [
      "||x||_1 = 15.0\n",
      "||x||_2 = 7.416198487095663\n",
      "||x|| defult = 7.416198487095663\n",
      "||A||_1 = 18.0 \n",
      "||A||_2 = 16.84810335261421\n",
      "||A||_inf = 24.0\n",
      "||A||_frobenius = 16.881943016134134\n",
      "||A|| defult = 16.881943016134134\n"
     ]
    }
   ],
   "source": [
    "print(\n",
    "    f\"||x||_1 = {np.linalg.norm(x, ord=1)}\\n||x||_2 = {np.linalg.norm(x, ord=2)}\")\n",
    "print(f\"||x|| defult = {np.linalg.norm(x)}\")\n",
    "print(f\"||A||_1 = {np.linalg.norm(A, ord=1)} \\n||A||_2 = {np.linalg.norm(A, ord=2)}\\n||A||_inf = {np.linalg.norm(A, ord=np.inf)}\")\n",
    "print(f\"||A||_frobenius = {np.linalg.norm(A, ord='fro')}\")\n",
    "print(f\"||A|| defult = {np.linalg.norm(A)}\")\n"
   ]
  },
  {
   "cell_type": "markdown",
   "metadata": {},
   "source": [
    "The default choice for vector's norm is its l2 norm.\n",
    "The default chioce for matrix's norm is its frobenius norm."
   ]
  },
  {
   "cell_type": "markdown",
   "metadata": {},
   "source": [
    "## Lab Book 02"
   ]
  },
  {
   "cell_type": "code",
   "execution_count": 4,
   "metadata": {},
   "outputs": [
    {
     "name": "stdout",
     "output_type": "stream",
     "text": [
      "The solution x is [-3. -5. -6. -6. -5. -3.]\n",
      "LU\n",
      "[[-2.          1.          0.          0.          0.          0.        ]\n",
      " [-0.5        -1.5         1.          0.          0.          0.        ]\n",
      " [-0.         -0.66666667 -1.33333333  1.          0.          0.        ]\n",
      " [-0.         -0.         -0.75       -1.25        1.          0.        ]\n",
      " [-0.         -0.         -0.         -0.8        -1.2         1.        ]\n",
      " [-0.         -0.         -0.         -0.         -0.83333333 -1.16666667]]\n",
      "P\n",
      "[0 1 2 3 4 5]\n"
     ]
    }
   ],
   "source": [
    "# Create an example 6*6 linear system (related to elastic membranes)\n",
    "n = 6\n",
    "A = np.diag(np.ones(n-1), -1) - 2*np.diag(np.ones(n)) + \\\n",
    "    np.diag(np.ones(n-1), 1)\n",
    "b = np.ones(n)\n",
    "# Calculate LU factorisation\n",
    "lu, piv = linalg.lu_factor(A)\n",
    "# Solve a linear system using a previously computed LU factorisation\n",
    "x = linalg.lu_solve((lu, piv), b)\n",
    "print(f\"The solution x is {x}\")\n",
    "print(f\"LU\\n{lu}\\nP\\n{piv}\")\n"
   ]
  },
  {
   "cell_type": "code",
   "execution_count": 5,
   "metadata": {},
   "outputs": [
    {
     "name": "stdout",
     "output_type": "stream",
     "text": [
      "The residual is 1.7763568394002505e-15\n"
     ]
    }
   ],
   "source": [
    "residual = np.linalg.norm((A@x - b), ord=2)\n",
    "print(f\"The residual is {residual}\")\n"
   ]
  },
  {
   "cell_type": "markdown",
   "metadata": {},
   "source": [
    "LU is the combination of L and U, where the upper triangular part of LU including the diagonal is U and the lower triangular matrix of LU with diagonal of 1s is L. Since LU can store all the information of both L and U without loss. We don't need to save them seperately each time.\n",
    "\n",
    "P is stored in piv which can be read as the index of pivot in each row, like piv:[0,1,2] stands for P: [[1,0,0],[0,1,0],[0,0,1]]."
   ]
  },
  {
   "cell_type": "markdown",
   "metadata": {},
   "source": [
    "## Lab Book 03"
   ]
  },
  {
   "cell_type": "code",
   "execution_count": 6,
   "metadata": {},
   "outputs": [],
   "source": [
    "def geneHilbert(size):\n",
    "    A = np.zeros([size, size])\n",
    "    for i in range(size):\n",
    "        for j in range(size):\n",
    "            A[i][j] = 1 / (i + j + 1)\n",
    "    return A\n"
   ]
  },
  {
   "cell_type": "code",
   "execution_count": 7,
   "metadata": {},
   "outputs": [
    {
     "name": "stdout",
     "output_type": "stream",
     "text": [
      "[3.31822899 2.38072899 1.93955252 1.66177474 1.46440632 1.31440632\n",
      " 1.1953587  1.09795611 1.01643437 0.94698992 0.88698992 0.83454237\n",
      " 0.78824608 0.74703728 0.71009147]\n",
      "[  1.00000005   0.99999302   1.00024845   0.99635976   1.02582299\n",
      "   0.91929014   0.94139796   2.48103462  -5.07361829  14.857887\n",
      " -19.1097392   20.00938864 -10.37747099   4.9248948    0.40451104]\n",
      "Relative error of np.linalg.solve = 8.725818712797583\n",
      "[  1.00000005   0.99999302   1.00024845   0.99635976   1.02582299\n",
      "   0.91929014   0.94139796   2.48103462  -5.07361829  14.857887\n",
      " -19.1097392   20.00938864 -10.37747099   4.9248948    0.40451104]\n",
      "the determinant of A is -1.2321076338246708e-120, which is colse to 0.\n",
      "Therefore it is almost a singular matrix.\n"
     ]
    }
   ],
   "source": [
    "n = 15\n",
    "\n",
    "A = geneHilbert(15)\n",
    "xtrue = np.ones((n,))\n",
    "b = A @ xtrue              # RHS of Ax=b with known solution xtrue\n",
    "print(b)\n",
    "x = np.linalg.solve(A, b)  # Gaussian Elimination with partial pivoting\n",
    "print(x)\n",
    "print(\"Relative error of np.linalg.solve =\",\n",
    "      np.linalg.norm(x - xtrue) / np.linalg.norm(xtrue))\n",
    "lu, piv = linalg.lu_factor(A)\n",
    "xdash = linalg.lu_solve((lu, piv), b)\n",
    "print(xdash)\n",
    "print(\n",
    "    f\"the determinant of A is {np.linalg.det(A)}, which is colse to 0.\\nTherefore it is almost a singular matrix.\")\n"
   ]
  },
  {
   "cell_type": "markdown",
   "metadata": {},
   "source": [
    "Since the determinant of Hilbert matrix is extremly small, itself is an ill-conditioned matrix. Therefore, when we are computing the solution by np.linalg.solve, Hilbert matrix will possibly lead to numeric errors, especially when we try to find its inverse, there will be a large floating point number error. There will also have a lot of rounding errors due to the feature of Hilbert matrix. The error also changes with the size of the matrix, the larger the size is, the larger the error is."
   ]
  },
  {
   "cell_type": "markdown",
   "metadata": {},
   "source": [
    "## Lab Book 04"
   ]
  },
  {
   "cell_type": "code",
   "execution_count": 8,
   "metadata": {},
   "outputs": [],
   "source": [
    "def lu_factorisation(A):\n",
    "\n",
    "    n = A.shape[0]  # dimension of A\n",
    "\n",
    "    P = np.eye(n, dtype='float64')   # P starts as the identity matrix\n",
    "    L = np.eye(n, dtype='float64')   # L starts as the identity matrix\n",
    "    U = A.copy().astype('float64')  # U starts as A (we will put in zeros as we go)\n",
    "    for k in range(n-1):    # column of U where we are adding zeros\n",
    "        max = np.argmax(abs(U[k:, k:(k+1)])) + k\n",
    "        U[[k, max], :] = U[[max, k], :]\n",
    "        P[[k, max], :] = P[[max, k], :]\n",
    "        for i in range(k+1, n):  # row of U to add zero\n",
    "            L[[k, max], :(k)] = L[[max, k], :(k)]   # Turn E to E~\n",
    "            L[i, k] = U[i, k] / U[k, k]   # entry of L to zero out U[i,k]\n",
    "            for j in range(k, n):   # apply row operation to nonzero part of row i\n",
    "                U[i, j] = U[i, j] - L[i, k]*U[k, j]\n",
    "    return P, L, U\n"
   ]
  },
  {
   "cell_type": "code",
   "execution_count": 9,
   "metadata": {},
   "outputs": [
    {
     "name": "stdout",
     "output_type": "stream",
     "text": [
      "A\n",
      "[[1 1 1]\n",
      " [2 2 5]\n",
      " [4 6 8]]\n",
      "b\n",
      "[1. 2. 3.]\n"
     ]
    }
   ],
   "source": [
    "A = np.array([[1, 1, 1], [2, 2, 5], [4, 6, 8]])\n",
    "# A = np.array([[2,4,-2]\n",
    "#             ,[4,9,-3]\n",
    "#             ,[-2,-3,7]])\n",
    "b = np.linspace(1, 3, 3)\n",
    "# b = np.linspace(2,8,10)\n",
    "print(f\"A\\n{A}\\nb\\n{b}\")\n"
   ]
  },
  {
   "cell_type": "code",
   "execution_count": 10,
   "metadata": {},
   "outputs": [
    {
     "name": "stdout",
     "output_type": "stream",
     "text": [
      "My solver:\n",
      "P\n",
      "[[0. 0. 1.]\n",
      " [0. 1. 0.]\n",
      " [1. 0. 0.]]\n",
      "L\n",
      "[[1.   0.   0.  ]\n",
      " [0.5  1.   0.  ]\n",
      " [0.25 0.5  1.  ]]\n",
      "U\n",
      "[[ 4.   6.   8. ]\n",
      " [ 0.  -1.   1. ]\n",
      " [ 0.   0.  -1.5]]\n",
      "\n",
      "scipy.linalg.lu:\n",
      "P\n",
      "[[-0.  0.  1.]\n",
      " [-0.  1.  0.]\n",
      " [ 1.  0.  0.]]\n",
      "L\n",
      "[[1.   0.   0.  ]\n",
      " [0.5  1.   0.  ]\n",
      " [0.25 0.5  1.  ]]\n",
      "U\n",
      "[[ 4.   6.   8. ]\n",
      " [ 0.  -1.   1. ]\n",
      " [ 0.   0.  -1.5]]\n",
      "\n",
      "Check:\n",
      "is P equal?\n",
      "[[ True  True  True]\n",
      " [ True  True  True]\n",
      " [ True  True  True]]\n",
      "is L equal?\n",
      "[[ True  True  True]\n",
      " [ True  True  True]\n",
      " [ True  True  True]]\n",
      "is U equal?\n",
      "[[ True  True  True]\n",
      " [ True  True  True]\n",
      " [ True  True  True]]\n"
     ]
    }
   ],
   "source": [
    "P1, L1, U1 = lu_factorisation(A)\n",
    "print(f\"My solver:\\nP\\n{P1}\\nL\\n{L1}\\nU\\n{U1}\")\n",
    "P2, L2, U2 = linalg.lu(A)\n",
    "print(f\"\\nscipy.linalg.lu:\\nP\\n{linalg.inv(P2)}\\nL\\n{L2}\\nU\\n{U2}\")\n",
    "print(\n",
    "    f\"\\nCheck:\\nis P equal?\\n{P1==P2}\\nis L equal?\\n{L1==L2}\\nis U equal?\\n{U1==U2}\")\n"
   ]
  },
  {
   "cell_type": "code",
   "execution_count": 11,
   "metadata": {},
   "outputs": [
    {
     "name": "stdout",
     "output_type": "stream",
     "text": [
      "5\n",
      "[[1 1 1]\n",
      " [2 2 5]\n",
      " [4 6 8]]\n"
     ]
    }
   ],
   "source": [
    "n = 6\n",
    "A = np.diag(np.ones(n-1), -1) - 2*np.diag(np.ones(n)) + \\\n",
    "    np.diag(np.ones(n-1), 1)\n",
    "lu_factorisation(A)\n",
    "x = max(range(1, 6))\n",
    "print(x)\n",
    "A = np.array([[1, 1, 1], [2, 2, 5], [4, 6, 8]])\n",
    "print(A)\n",
    "b = np.linspace(1, 3, 3)\n"
   ]
  },
  {
   "cell_type": "markdown",
   "metadata": {},
   "source": [
    "## Lab Book 05"
   ]
  },
  {
   "cell_type": "code",
   "execution_count": 12,
   "metadata": {},
   "outputs": [],
   "source": [
    "def plu_solve(P, L, U, b):\n",
    "    # Ly = Pb\n",
    "    y = linalg.solve(L, P @ b)\n",
    "\n",
    "    # Ux = y\n",
    "    x = linalg.solve(U, y)\n",
    "\n",
    "    return x\n"
   ]
  },
  {
   "cell_type": "code",
   "execution_count": 13,
   "metadata": {},
   "outputs": [
    {
     "name": "stdout",
     "output_type": "stream",
     "text": [
      "computed x = [ 1.5 -0.5 -0. ]\n",
      "ans = [ 1.5 -0.5 -0. ]\n",
      "Check:\n",
      "[ True  True  True]\n"
     ]
    }
   ],
   "source": [
    "ans = linalg.solve(A, b)\n",
    "P1, L1, U1 = lu_factorisation(A)\n",
    "x = plu_solve(P1, L1, U1, b)\n",
    "print(f\"computed x = {x}\\nans = {ans}\")\n",
    "print(f\"Check:\\n{ans == x}\")\n"
   ]
  },
  {
   "cell_type": "markdown",
   "metadata": {},
   "source": [
    "## Lab Book 06"
   ]
  },
  {
   "cell_type": "code",
   "execution_count": 14,
   "metadata": {},
   "outputs": [],
   "source": [
    "# Create an example 6*6 linear system (related to elastic membranes)\n",
    "n = 6\n",
    "A = np.diag(np.ones(n-1), -1) - 2*np.diag(np.ones(n)) + \\\n",
    "    np.diag(np.ones(n-1), 1)\n",
    "b = np.ones(n)\n",
    "# Calculate QR factorisation\n",
    "Q, R = np.linalg.qr(A)\n",
    "# Solve a linear system using a QR factorisation\n",
    "x = linalg.solve_triangular(R, Q.T @ b, lower=False)\n"
   ]
  },
  {
   "cell_type": "code",
   "execution_count": 15,
   "metadata": {},
   "outputs": [
    {
     "name": "stdout",
     "output_type": "stream",
     "text": [
      "The error between A and Q·R is 7.543868986480381e-16\n",
      "The error between I and QT·Q is 5.055024574123691e-16\n"
     ]
    }
   ],
   "source": [
    "I = np.eye(n)\n",
    "# check QT·Q = I\n",
    "residual1 = linalg.norm(Q.T @ Q - I, ord=2)\n",
    "# check A = Q·R\n",
    "residual2 = linalg.norm(A - Q @ R, ord=2)\n",
    "print(\n",
    "    f\"The error between A and Q·R is {residual2}\\nThe error between I and QT·Q is {residual1}\")\n"
   ]
  },
  {
   "cell_type": "markdown",
   "metadata": {},
   "source": [
    "## Lab Book 07"
   ]
  },
  {
   "cell_type": "code",
   "execution_count": 16,
   "metadata": {},
   "outputs": [
    {
     "name": "stdout",
     "output_type": "stream",
     "text": [
      "Residual = 0.0010262943079517286\n"
     ]
    }
   ],
   "source": [
    "# Create an example 10x6 overdetermined linear system\n",
    "m = 10\n",
    "n = 6\n",
    "A = np.sqrt(np.arange(m*n)).reshape((m, n))\n",
    "b = np.ones(m)\n",
    "# Calculate reduced QR factorisation\n",
    "Q, R = np.linalg.qr(A, mode='reduced')\n",
    "# Solve a linear system using a QR factorisation\n",
    "x = linalg.solve_triangular(R, Q.T @ b, lower=False)\n",
    "print(\"Residual =\", np.linalg.norm(A@x - b))\n"
   ]
  },
  {
   "cell_type": "code",
   "execution_count": 2,
   "metadata": {},
   "outputs": [],
   "source": [
    "def conjugate_gradient(A, b, x0, tol):\n",
    "    # Initialise variables\n",
    "    x = x0.copy()\n",
    "    r = b - A @ x\n",
    "    d = r\n",
    "    # Run the main CG loop\n",
    "    k = 0\n",
    "    residual_norm_history = []\n",
    "    residual_norm_history.append(np.linalg.norm(r))\n",
    "    while k < len(b) and np.linalg.norm(r) >= tol:  # stop when k=n or small residual\n",
    "        temp = r.T @ r\n",
    "\n",
    "        alpha = temp / (d.T @ A @ d)\n",
    "        x += alpha * d\n",
    "        r = r - alpha * A @ d\n",
    "\n",
    "        beta = (r.T @ r) / temp\n",
    "        d = r + beta * d\n",
    "\n",
    "        # Complete CG iteration here\n",
    "        # Store the norm of the current residual\n",
    "        residual_norm_history.append(np.linalg.norm(r))\n",
    "        k += 1\n",
    "    return x, np.array(residual_norm_history)\n"
   ]
  },
  {
   "cell_type": "code",
   "execution_count": 18,
   "metadata": {},
   "outputs": [
    {
     "name": "stdout",
     "output_type": "stream",
     "text": [
      "Final residual ||Ax-b|| = 4.2335469486733446e-14\n"
     ]
    },
    {
     "data": {
      "image/png": "[encoded data removed]",
      "text/plain": [
       "<Figure size 432x288 with 1 Axes>"
      ]
     },
     "metadata": {
      "needs_background": "light"
     },
     "output_type": "display_data"
    }
   ],
   "source": [
    "# Create example symmetric positive definite linear system\n",
    "n = 10\n",
    "A = -np.diag(np.ones(n-1), -1) + 2*np.diag(np.ones(n)) - \\\n",
    "    np.diag(np.ones(n-1), 1)\n",
    "b = np.arange(n)\n",
    "x0 = np.zeros((n,))\n",
    "# Solve with CG\n",
    "x, resids = conjugate_gradient(A, b, x0, tol=1e-5)\n",
    "print(\"Final residual ||Ax-b|| =\", np.linalg.norm(A@x - b))\n",
    "\n",
    "# Plot decrease in residuals\n",
    "plt.figure(1)\n",
    "plt.clf()\n",
    "plt.semilogy(resids, 'o-')\n",
    "plt.grid()\n",
    "plt.xlabel('k')\n",
    "plt.ylabel('||rk||')\n",
    "plt.show()\n"
   ]
  },
  {
   "cell_type": "markdown",
   "metadata": {},
   "source": [
    "CG converges in 10 iterations and there is a drop in the value of error at 10th iteration."
   ]
  },
  {
   "cell_type": "markdown",
   "metadata": {},
   "source": [
    "## Lab Book 08"
   ]
  },
  {
   "cell_type": "code",
   "execution_count": 19,
   "metadata": {},
   "outputs": [],
   "source": [
    "# Set the random number generator (for reproducibility)\n",
    "np.random.seed(0)\n",
    "# Build a random n*n orthogonal matrix of eigenvectors\n",
    "n = 20\n",
    "Q1 = np.linalg.qr(np.random.rand(n, n))[0]\n",
    "Q2 = np.linalg.qr(np.random.rand(n, n))[0]\n",
    "# Desired set of eigenvalues (need all > 0 for positive definite matrices)\n",
    "evals1 = np.linspace(1, 1e5, n)\n",
    "# evals2 = np.array([1,1,1,1\n",
    "#                 ,1e2,1e2,1e2,1e2\n",
    "#                 ,1e3,1e3,1e3,1e3\n",
    "#                 ,1e4,1e4,1e4,1e4\n",
    "#                 ,1e5,1e5,1e5,1e5])\n",
    "# evals2 = np.array([1, 1e2, 1e3, 1e4, 1e5]*4)\n",
    "evals2 = np.array([1, 1e5-3, 1e5-2, 1e5-1, 1e5]*4)\n",
    "# Construct symmetric positive definite linear system with desired eigenvalues\n",
    "A1 = Q1.T @ np.diag(evals1) @ Q1\n",
    "A2 = Q1.T @ np.diag(evals2) @ Q1\n",
    "b = np.arange(n)\n",
    "x0 = np.zeros((n,))\n"
   ]
  },
  {
   "cell_type": "markdown",
   "metadata": {},
   "source": [
    "The condition number k(A) of matrix A is defined by the absolute value of maximum eigenvalue divided by the smallest eigenvalue. Therefore, we can find the above two matrix by setting their maximum eigenvalue to 1e5 and minimum to 1. Then construct a square matrix with eigenvalues as its diagonal. By multiplying two othogonal matrices to the square matrix can give us the required matrices."
   ]
  },
  {
   "cell_type": "code",
   "execution_count": 20,
   "metadata": {},
   "outputs": [
    {
     "name": "stdout",
     "output_type": "stream",
     "text": [
      "condition number of A1 is 100000.00000022692\n",
      "condition number of A2 is 100000.00000133809\n"
     ]
    }
   ],
   "source": [
    "print(f\"condition number of A1 is {np.linalg.cond(A1)}\")\n",
    "print(f\"condition number of A2 is {np.linalg.cond(A2)}\")"
   ]
  },
  {
   "cell_type": "code",
   "execution_count": 21,
   "metadata": {},
   "outputs": [
    {
     "data": {
      "image/png": "[encoded data removed]",
      "text/plain": [
       "<Figure size 936x576 with 1 Axes>"
      ]
     },
     "metadata": {
      "needs_background": "light"
     },
     "output_type": "display_data"
    }
   ],
   "source": [
    "x0 = np.zeros((n,))\n",
    "x1, resids1 = conjugate_gradient(A1, b, x0, tol=1e-5)\n",
    "x2, resids2 = conjugate_gradient(A2, b, x0, tol=1e-5)\n",
    "plt.figure(figsize=(13, 8))\n",
    "plt.clf()\n",
    "plt.semilogy(resids1, 'o-', label='residuals of A1')\n",
    "plt.semilogy(resids2, 'o-', label='residuals of A2')\n",
    "plt.legend(loc='best')\n",
    "plt.grid()\n",
    "plt.xlabel('k')\n",
    "plt.ylabel('||rk||')\n",
    "plt.show()\n"
   ]
  },
  {
   "cell_type": "markdown",
   "metadata": {},
   "source": [
    "If we consider eigenvalues with relatively very small difference as a cluster, we can find that with same condition number, the matrix with fewer clusters will converge much faster. A1 has 20 clusters and needs exactly n = 20 itrations of CG to return the result while A2 only needs 5 iterations because there's only two clusters of eigenvalues."
   ]
  },
  {
   "cell_type": "code",
   "execution_count": 22,
   "metadata": {},
   "outputs": [
    {
     "ename": "NameError",
     "evalue": "name 't_start' is not defined",
     "output_type": "error",
     "traceback": [
      "\u001b[0;31m---------------------------------------------------------------------------\u001b[0m",
      "\u001b[0;31mNameError\u001b[0m                                 Traceback (most recent call last)",
      "\u001b[0;32m<ipython-input-22-b82844792960>\u001b[0m in \u001b[0;36m<module>\u001b[0;34m\u001b[0m\n\u001b[0;32m----> 1\u001b[0;31m \u001b[0mprint\u001b[0m\u001b[0;34m(\u001b[0m\u001b[0;34mf\"start time: {t_start}\\ntime1: {t_stop1}\\ntime2: {t_stop2}\"\u001b[0m\u001b[0;34m)\u001b[0m\u001b[0;34m\u001b[0m\u001b[0;34m\u001b[0m\u001b[0m\n\u001b[0m\u001b[1;32m      2\u001b[0m \u001b[0mprint\u001b[0m\u001b[0;34m(\u001b[0m\u001b[0mtime\u001b[0m\u001b[0;34m.\u001b[0m\u001b[0mprocess_time_ns\u001b[0m\u001b[0;34m(\u001b[0m\u001b[0;34m)\u001b[0m\u001b[0;34m)\u001b[0m\u001b[0;34m\u001b[0m\u001b[0;34m\u001b[0m\u001b[0m\n",
      "\u001b[0;31mNameError\u001b[0m: name 't_start' is not defined"
     ]
    }
   ],
   "source": [
    "print(f\"start time: {t_start}\\ntime1: {t_stop1}\\ntime2: {t_stop2}\")\n",
    "print(time.process_time_ns())"
   ]
  },
  {
   "cell_type": "markdown",
   "metadata": {},
   "source": [
    "## Lab Book 09"
   ]
  },
  {
   "cell_type": "code",
   "execution_count": 23,
   "metadata": {},
   "outputs": [
    {
     "name": "stdout",
     "output_type": "stream",
     "text": [
      "[0, 0, 0, 0, 0, 0, 0, 0, 0, 0, 1, 2, 3, 4, 5, 6, 7, 8, 9, 1, 2, 3, 4, 5, 6, 7, 8, 9]\n",
      "values[1, 2, 3, 4, 5, 6, 7, 8, 9, 10, 2, 3, 4, 5, 6, 7, 8, 9, 10, 2, 3, 4, 5, 6, 7, 8, 9, 10]\n",
      "A is\n",
      "  (0, 0)\t1.0\n",
      "  (1, 0)\t2.0\n",
      "  (2, 0)\t3.0\n",
      "  (3, 0)\t4.0\n",
      "  (4, 0)\t5.0\n",
      "  (5, 0)\t6.0\n",
      "  (6, 0)\t7.0\n",
      "  (7, 0)\t8.0\n",
      "  (8, 0)\t9.0\n",
      "  (9, 0)\t10.0\n",
      "  (0, 1)\t2.0\n",
      "  (0, 2)\t3.0\n",
      "  (0, 3)\t4.0\n",
      "  (0, 4)\t5.0\n",
      "  (0, 5)\t6.0\n",
      "  (0, 6)\t7.0\n",
      "  (0, 7)\t8.0\n",
      "  (0, 8)\t9.0\n",
      "  (0, 9)\t10.0\n",
      "  (1, 1)\t2.0\n",
      "  (2, 2)\t3.0\n",
      "  (3, 3)\t4.0\n",
      "  (4, 4)\t5.0\n",
      "  (5, 5)\t6.0\n",
      "  (6, 6)\t7.0\n",
      "  (7, 7)\t8.0\n",
      "  (8, 8)\t9.0\n",
      "  (9, 9)\t10.0\n",
      "A' is\n",
      "  (0, 0)\t1.0\n",
      "  (0, 1)\t2.0\n",
      "  (0, 2)\t3.0\n",
      "  (0, 3)\t4.0\n",
      "  (0, 4)\t5.0\n",
      "  (0, 5)\t6.0\n",
      "  (0, 6)\t7.0\n",
      "  (0, 7)\t8.0\n",
      "  (0, 8)\t9.0\n",
      "  (0, 9)\t10.0\n",
      "  (1, 0)\t2.0\n",
      "  (1, 1)\t2.0\n",
      "  (2, 0)\t3.0\n",
      "  (2, 2)\t3.0\n",
      "  (3, 0)\t4.0\n",
      "  (3, 3)\t4.0\n",
      "  (4, 0)\t5.0\n",
      "  (4, 4)\t5.0\n",
      "  (5, 0)\t6.0\n",
      "  (5, 5)\t6.0\n",
      "  (6, 0)\t7.0\n",
      "  (6, 6)\t7.0\n",
      "  (7, 0)\t8.0\n",
      "  (7, 7)\t8.0\n",
      "  (8, 0)\t9.0\n",
      "  (8, 8)\t9.0\n",
      "  (9, 0)\t10.0\n",
      "  (9, 9)\t10.0\n",
      "Dimensions = (10, 10)\n",
      "Number of nonzero entries = 28\n",
      "Sparsity = 0.28\n",
      "[[ 1.  2.  3.  4.  5.  6.  7.  8.  9. 10.]\n",
      " [ 2.  2.  0.  0.  0.  0.  0.  0.  0.  0.]\n",
      " [ 3.  0.  3.  0.  0.  0.  0.  0.  0.  0.]\n",
      " [ 4.  0.  0.  4.  0.  0.  0.  0.  0.  0.]\n",
      " [ 5.  0.  0.  0.  5.  0.  0.  0.  0.  0.]\n",
      " [ 6.  0.  0.  0.  0.  6.  0.  0.  0.  0.]\n",
      " [ 7.  0.  0.  0.  0.  0.  7.  0.  0.  0.]\n",
      " [ 8.  0.  0.  0.  0.  0.  0.  8.  0.  0.]\n",
      " [ 9.  0.  0.  0.  0.  0.  0.  0.  9.  0.]\n",
      " [10.  0.  0.  0.  0.  0.  0.  0.  0. 10.]]\n",
      "[[ 3.  2.  3.  4.  5.  6.  7.  8.  9. 10.]\n",
      " [ 2.  4.  0.  0.  0.  0.  0.  0.  0.  0.]\n",
      " [ 3.  0.  5.  0.  0.  0.  0.  0.  0.  0.]\n",
      " [ 4.  0.  0.  6.  0.  0.  0.  0.  0.  0.]\n",
      " [ 5.  0.  0.  0.  7.  0.  0.  0.  0.  0.]\n",
      " [ 6.  0.  0.  0.  0.  8.  0.  0.  0.  0.]\n",
      " [ 7.  0.  0.  0.  0.  0.  9.  0.  0.  0.]\n",
      " [ 8.  0.  0.  0.  0.  0.  0. 10.  0.  0.]\n",
      " [ 9.  0.  0.  0.  0.  0.  0.  0. 11.  0.]\n",
      " [10.  0.  0.  0.  0.  0.  0.  0.  0. 12.]]\n",
      "Ax = [330.   2.   6.  12.  20.  30.  42.  56.  72.  90.]\n",
      "A^T x = [330.   2.   6.  12.  20.  30.  42.  56.  72.  90.]\n",
      "[[ 1.  2.  3.  4.  5.  6.  7.  8.  9. 10.]\n",
      " [ 2.  2.  0.  0.  0.  0.  0.  0.  0.  0.]\n",
      " [ 3.  0.  3.  0.  0.  0.  0.  0.  0.  0.]\n",
      " [ 4.  0.  0.  4.  0.  0.  0.  0.  0.  0.]\n",
      " [ 5.  0.  0.  0.  5.  0.  0.  0.  0.  0.]\n",
      " [ 6.  0.  0.  0.  0.  6.  0.  0.  0.  0.]\n",
      " [ 7.  0.  0.  0.  0.  0.  7.  0.  0.  0.]\n",
      " [ 8.  0.  0.  0.  0.  0.  0.  8.  0.  0.]\n",
      " [ 9.  0.  0.  0.  0.  0.  0.  0.  9.  0.]\n",
      " [10.  0.  0.  0.  0.  0.  0.  0.  0. 10.]]\n",
      "Entry (1,1) is 2.0\n",
      "Entry (-1, -2) is 0.0\n",
      "Entry (-1, -2) is -5.5\n"
     ]
    },
    {
     "name": "stderr",
     "output_type": "stream",
     "text": [
      "/Users/x_x/opt/anaconda3/lib/python3.7/site-packages/scipy/sparse/_index.py:82: SparseEfficiencyWarning: Changing the sparsity structure of a csr_matrix is expensive. lil_matrix is more efficient.\n",
      "  self._set_intXint(row, col, x.flat[0])\n"
     ]
    }
   ],
   "source": [
    "# Column indices of the nonzero values\n",
    "# They are ordered as: first column (top to bottom), first row (second to last column), diagonal (2nd entry to last entry).\n",
    "# Note: the '+' operator appends lists: [1,2] + [3,4,5] gives [1,2,3,4,5]\n",
    "col_idx = [0]*10 + list(range(1, 10)) + list(range(1, 10))\n",
    "print(col_idx)\n",
    "# Row indices of the nonzero values\n",
    "row_idx = list(range(10)) + [0]*9 + list(range(1, 10))\n",
    "# Values of the nonzero entries\n",
    "values = list(range(1, 11)) + list(range(2, 11)) + list(range(2, 11))\n",
    "print(f\"values{values}\")\n",
    "# Form the sparse matrix\n",
    "nrows, ncols = 10, 10  # dimensions of A\n",
    "A = sparse.coo_matrix((values, (row_idx, col_idx)),\n",
    "                      shape=(nrows, ncols), dtype=float)\n",
    "print(f\"A is\\n{A}\")\n",
    "# Convert to CSR format for efficient linear algebra (if desired)\n",
    "A = A.tocsr()\n",
    "print(f\"A' is\\n{A}\")\n",
    "# Dimensions of a sparse matrix (same as NumPy arrays)\n",
    "print(\"Dimensions =\", A.shape)\n",
    "# How many nonzero entries?\n",
    "print(\"Number of nonzero entries =\", A.nnz)\n",
    "# The \"sparsity\" of a matrix is the fraction of entries which are nonzero\n",
    "print(\"Sparsity =\", A.nnz / (A.shape[0] * A.shape[1]))\n",
    "# Convert to a regular NumPy array\n",
    "# This is useful to check our code for col_idx, row_idx and values\n",
    "# WARNING: do not do this for very large matrices (or you will run of memory)\n",
    "A_as_dense_matrix = A.toarray()\n",
    "print(A_as_dense_matrix)\n",
    "# Create a sparse identity matrix the same size as A\n",
    "I = sparse.eye(nrows)\n",
    "A_plus_two_I = A + 2*I\n",
    "# check answer correct by printing A+I as a dense matrix\n",
    "print(A_plus_two_I.toarray())\n",
    "# Matrix-vector multiplication\n",
    "x = np.arange(nrows)\n",
    "print(\"Ax =\", A @ x)\n",
    "print(\"A^T x =\", A.T @ x)\n",
    "# Matrix-matrix multiplication\n",
    "A_times_I = A @ I\n",
    "print(A_times_I.toarray())\n",
    "print(\"Entry (1,1) is\", A[1, 1])\n",
    "print(\"Entry (-1, -2) is\", A[-1, -2])\n",
    "# Change an entry from zero to nonzero\n",
    "A[-1, -2] = -5.5\n",
    "print(\"Entry (-1, -2) is\", A[-1, -2])\n"
   ]
  },
  {
   "cell_type": "code",
   "execution_count": 24,
   "metadata": {},
   "outputs": [
    {
     "data": {
      "image/png": "[encoded data removed]",
      "text/plain": [
       "<Figure size 432x288 with 1 Axes>"
      ]
     },
     "metadata": {
      "needs_background": "light"
     },
     "output_type": "display_data"
    }
   ],
   "source": [
    "plt.figure(1)\n",
    "plt.clf()\n",
    "plt.spy(A)\n",
    "plt.show()\n"
   ]
  },
  {
   "cell_type": "code",
   "execution_count": 25,
   "metadata": {},
   "outputs": [],
   "source": [
    "def generate_sparse(n):\n",
    "    base1 = list([7/2]*n)\n",
    "    base2 = list([-4/3]*(n-1))\n",
    "    base3 = list([1/12]*(n-2))\n",
    "    A = sparse.diags([base1, base2, base2, base3, base3],\n",
    "                     offsets=[0, 1, -1, 2, -2], format='csr', dtype='float')\n",
    "    # A = A.tocsr()\n",
    "    return A\n"
   ]
  },
  {
   "cell_type": "code",
   "execution_count": 26,
   "metadata": {},
   "outputs": [
    {
     "name": "stdout",
     "output_type": "stream",
     "text": [
      "The CSR format of A is:\n",
      "  (0, 0)\t3.5\n",
      "  (0, 1)\t-1.3333333333333333\n",
      "  (0, 2)\t0.08333333333333333\n",
      "  (1, 1)\t3.5\n",
      "  (1, 2)\t-1.3333333333333333\n",
      "  (1, 0)\t-1.3333333333333333\n",
      "  (1, 3)\t0.08333333333333333\n",
      "  (2, 2)\t3.5\n",
      "  (2, 3)\t-1.3333333333333333\n",
      "  (2, 1)\t-1.3333333333333333\n",
      "  (2, 4)\t0.08333333333333333\n",
      "  (2, 0)\t0.08333333333333333\n",
      "  (3, 3)\t3.5\n",
      "  (3, 4)\t-1.3333333333333333\n",
      "  (3, 2)\t-1.3333333333333333\n",
      "  (3, 1)\t0.08333333333333333\n",
      "  (4, 4)\t3.5\n",
      "  (4, 3)\t-1.3333333333333333\n",
      "  (4, 2)\t0.08333333333333333\n",
      "The 5*5 sparse matrix is:\n",
      "[[ 3.5        -1.33333333  0.08333333  0.          0.        ]\n",
      " [-1.33333333  3.5        -1.33333333  0.08333333  0.        ]\n",
      " [ 0.08333333 -1.33333333  3.5        -1.33333333  0.08333333]\n",
      " [ 0.          0.08333333 -1.33333333  3.5        -1.33333333]\n",
      " [ 0.          0.          0.08333333 -1.33333333  3.5       ]]\n"
     ]
    }
   ],
   "source": [
    "n = 5\n",
    "A = generate_sparse(n)\n",
    "print(f\"The CSR format of A is:\\n{A}\")\n",
    "print(f\"The {n}*{n} sparse matrix is:\\n{A.toarray()}\")\n",
    "                "
   ]
  },
  {
   "cell_type": "markdown",
   "metadata": {},
   "source": [
    "## Lab Book 10"
   ]
  },
  {
   "cell_type": "code",
   "execution_count": 27,
   "metadata": {},
   "outputs": [
    {
     "name": "stdout",
     "output_type": "stream",
     "text": [
      "n = 10\n",
      "np.linalg.solve takes 0.000247955322265625 seconds\n",
      "scipy.sparse.linalg.spsolve takes 0.0028259754180908203 seconds\n",
      "n = 100\n",
      "np.linalg.solve takes 0.0020210742950439453 seconds\n",
      "scipy.sparse.linalg.spsolve takes 0.0009870529174804688 seconds\n",
      "n = 1000\n",
      "np.linalg.solve takes 0.04650712013244629 seconds\n",
      "scipy.sparse.linalg.spsolve takes 0.0013680458068847656 seconds\n"
     ]
    }
   ],
   "source": [
    "n = [10, 100, 1000]\n",
    "times = np.zeros([len(n), 2])\n",
    "times2 = np.zeros(len(n))\n",
    "# niter = 50\n",
    "# for k in range(niter):\n",
    "for i in range(len(n)):\n",
    "    b = np.arange(n[i])\n",
    "    A = generate_sparse(n[i])\n",
    "    t_start = time.time()\n",
    "    x = linalg.solve(A.toarray(), b)\n",
    "    t_stop1 = time.time()\n",
    "    x = spsolve(A, b)\n",
    "    t_stop2 = time.time()\n",
    "    times[i] = list([t_stop1-t_start, t_stop2-t_stop1])\n",
    "    print(f\"n = {n[i]}\\nnp.linalg.solve takes {times[i][0]} seconds\\nscipy.sparse.linalg.spsolve takes {times[i][1]} seconds\")\n",
    "\n"
   ]
  },
  {
   "cell_type": "markdown",
   "metadata": {},
   "source": [
    "With the increasing of n, np.linalg.solve clearly takes more time, which takes about 100 times time when n = 1000 compared to n = 10.\n",
    "However, spsolve almost takes similar time when n = 10, 100 and 1000."
   ]
  }
 ],
 "metadata": {
  "interpreter": {
   "hash": "6616dbf2f1fe8413981fbc422d0284b1596326dd0fcd2d7985d92f5046fae8bf"
  },
  "kernelspec": {
   "display_name": "Python 3",
   "language": "python",
   "name": "python3"
  },
  "language_info": {
   "codemirror_mode": {
    "name": "ipython",
    "version": 3
   },
   "file_extension": ".py",
   "mimetype": "text/x-python",
   "name": "python",
   "nbconvert_exporter": "python",
   "pygments_lexer": "ipython3",
   "version": "3.6.6+"
  }
 },
 "nbformat": 4,
 "nbformat_minor": 2
}
