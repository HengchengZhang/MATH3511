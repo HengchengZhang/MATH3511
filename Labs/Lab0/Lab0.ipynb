{
 "cells": [
  {
   "cell_type": "code",
   "execution_count": 1,
   "metadata": {},
   "outputs": [
    {
     "name": "stdout",
     "output_type": "stream",
     "text": [
      "380\n",
      "380\n"
     ]
    }
   ],
   "source": [
    "# Lab Book 01\n",
    "def LabBook01(n):\n",
    "    sum = 0\n",
    "    for x in range(0, 2 * n, 2):\n",
    "        sum += x\n",
    "    return sum\n",
    "\n",
    "\n",
    "n = 20\n",
    "print(LabBook01(n))\n",
    "print(n * (n - 1))"
   ]
  },
  {
   "cell_type": "code",
   "execution_count": 2,
   "metadata": {},
   "outputs": [
    {
     "name": "stdout",
     "output_type": "stream",
     "text": [
      "2.7182818284590455\n",
      "22026.465794806714\n",
      "4.539992967040021e-05\n"
     ]
    }
   ],
   "source": [
    "# Lab Book 02\n",
    "def ex(x):\n",
    "    \"\"\"\n",
    "    Calculate the exponential e^x using a Taylor series.\n",
    "    This is a docstring: it can have as much information as you want.\n",
    "    Usually, this means at least explaining what the function does,\n",
    "    what input(s) it expects, and what output(s) it has.\n",
    "    Any limitations/restrictions on inputs should go here (for example,\n",
    "    'this only works if x > 0').\n",
    "    \"\"\"\n",
    "    ans = 0\n",
    "    n=1\n",
    "    term = 1\n",
    "    while ans + term != ans:\n",
    "        ans = ans + term\n",
    "        term = term * (x / n) \n",
    "        n=n+1\n",
    "    return ans\n",
    "\n",
    "print(ex(1))\n",
    "print(ex(10))\n",
    "print(ex(-10))"
   ]
  },
  {
   "cell_type": "markdown",
   "metadata": {},
   "source": [
    "Lab Book 03\n",
    "The loop will stop as long as term converges to zero and in this case means different iteration times based on differnent input x."
   ]
  },
  {
   "cell_type": "code",
   "execution_count": 3,
   "metadata": {},
   "outputs": [
    {
     "name": "stdout",
     "output_type": "stream",
     "text": [
      "[4, 9, 16, 25, 36]\n"
     ]
    }
   ],
   "source": [
    "# Lab Book 04\n",
    "mylist = [1, 4, 9, 16, 25, 36, 49]\n",
    "print(mylist[1:len(mylist)-1])"
   ]
  },
  {
   "cell_type": "code",
   "execution_count": 4,
   "metadata": {},
   "outputs": [
    {
     "name": "stdout",
     "output_type": "stream",
     "text": [
      "[ 0.00000000e+00  4.44089210e-16 -1.77635684e-15 -7.10542736e-15\n",
      "  2.84217094e-14  0.00000000e+00  0.00000000e+00 -6.82121026e-13\n",
      " -1.81898940e-12 -1.81898940e-12 -3.63797881e-12  1.45519152e-11\n",
      " -1.16415322e-10 -5.82076609e-11  4.65661287e-10  0.00000000e+00\n",
      " -1.86264515e-09  1.11758709e-08  0.00000000e+00 -2.98023224e-08\n",
      "  4.08640821e-09 -1.34614048e-09  7.53740589e-10 -6.10385327e-11\n",
      " -6.01415855e-11  7.68208022e-12  1.54589755e-11  1.01043208e-12\n",
      " -1.83593900e-12  4.61436058e-13 -9.20846448e-14 -1.87626173e-13\n",
      " -4.47788508e-14 -4.76224962e-15  3.71013983e-15 -8.29197822e-16\n",
      " -2.25514052e-16  8.32667268e-17  2.77555756e-17  1.11022302e-16]\n"
     ]
    }
   ],
   "source": [
    "# Lab Book 05\n",
    "import math\n",
    "import numpy as np\n",
    "diff = np.zeros(40)\n",
    "for i in range(-20,20,1):\n",
    "    diff[i] = ex(i) - math.exp(i)\n",
    "print(diff)"
   ]
  },
  {
   "cell_type": "markdown",
   "metadata": {},
   "source": [
    "Lab Book 06\n",
    "math.ert() or math.erfc()\n",
    "The meaning of erf(x) is for a random variable Y that is normally distributed with mean 0 and standard deviation \n",
    "1/√2, it is the probability that Y falls in the range [-x,x]."
   ]
  },
  {
   "cell_type": "code",
   "execution_count": 5,
   "metadata": {},
   "outputs": [
    {
     "name": "stdout",
     "output_type": "stream",
     "text": [
      "11.33992543572478\n"
     ]
    }
   ],
   "source": [
    "# Lab Book 07\n",
    "def phi(x):\n",
    "    return (1 + math.erf(x/math.sqrt(2))) / 2\n",
    "def european_call(K, S, T, r, sigma):\n",
    "    d1 = (math.log1p(S/K-1) + (r+math.pow(sigma,2)/2)*T) / (sigma * math.sqrt(T))\n",
    "    d2 = d1 - sigma * math.sqrt(T)\n",
    "    C = phi(d1) * S - phi(d2) * K * math.pow(math.exp(1),(-r*T))\n",
    "    return C\n",
    "\n",
    "print(european_call(90,100,0.03,0.5,0.1))"
   ]
  },
  {
   "cell_type": "code",
   "execution_count": 6,
   "metadata": {},
   "outputs": [
    {
     "name": "stdout",
     "output_type": "stream",
     "text": [
      "[1.0, 0.5, 0.3333333333333333, 0.25, 0.2]\n"
     ]
    }
   ],
   "source": [
    "# Lab Book 08\n",
    "def current(RL,V,RS):\n",
    "    \"\"\"\n",
    "    Calculate the current given the voltage source with voltage V\n",
    "    and internal resistance RS supplying a load of resistance RL.\n",
    "    Input: RL = load of resistance (list of floating-point numbers)\n",
    "         : V = Voltage (floating-point number)\n",
    "         : RS = internal resistance (floating-point number)\n",
    "    Output: current (list of floating-point numbers)\n",
    "    \"\"\"\n",
    "    n = len(RL)\n",
    "    I=n*[0.0] #I is a list with the same size as RL \n",
    "    for j in range(n):\n",
    "        I[j] = V / (RL[j] + RS)\n",
    "    return I\n",
    "RL = list(range(1,6))\n",
    "I = current(RL, 1.0, 0.0)\n",
    "print(I)"
   ]
  },
  {
   "cell_type": "markdown",
   "metadata": {},
   "source": [
    "Lab Book 08\n",
    "I think it is right."
   ]
  },
  {
   "cell_type": "code",
   "execution_count": 7,
   "metadata": {},
   "outputs": [
    {
     "name": "stdout",
     "output_type": "stream",
     "text": [
      "[1.         0.5        0.33333333 0.25       0.2       ]\n"
     ]
    }
   ],
   "source": [
    "# Lab Book 09\n",
    "def power(I, RL):\n",
    "    PL = (np.array(I) ** 2) * RL\n",
    "    return PL\n",
    "print(power(I,RL))"
   ]
  },
  {
   "cell_type": "code",
   "execution_count": 8,
   "metadata": {},
   "outputs": [
    {
     "data": {
      "image/png": "[encoded data removed]",
      "text/plain": [
       "<Figure size 432x288 with 1 Axes>"
      ]
     },
     "metadata": {
      "needs_background": "light"
     },
     "output_type": "display_data"
    }
   ],
   "source": [
    "import matplotlib.pyplot as plt\n",
    "def power_plot(RL, PL):\n",
    "    \"\"\"\n",
    "    Plot the power PL versus the load of resistance RL.\n",
    "    Input: RL = load of resistance (list)\n",
    "         : PL = power (list)\n",
    "    Output: none\n",
    "    \"\"\"\n",
    "    plt.clf()\n",
    "    plt.plot(RL, PL)\n",
    "    plt.title('Plot of power versus load resistance')\n",
    "    plt.xlabel('Load resistance (Ohms)')\n",
    "    plt.ylabel('Power (Watts)')\n",
    "    plt.grid()\n",
    "    plt.show()\n",
    "    return\n",
    "\n",
    "RS = 50.0\n",
    "# Set the voltage source to 120V\n",
    "V = 120.0\n",
    "# Create a list of possible values for the load resistance\n",
    "RL = list(range(1, 101))\n",
    "# Calculate the current and power\n",
    "I = current(RL, V, RS)\n",
    "PL = power(I, RL)\n",
    "# Plot the power versus load resistance\n",
    "power_plot(RL, PL)"
   ]
  },
  {
   "cell_type": "code",
   "execution_count": 9,
   "metadata": {},
   "outputs": [
    {
     "name": "stdout",
     "output_type": "stream",
     "text": [
      "50\n",
      "72.0\n"
     ]
    }
   ],
   "source": [
    "# Lab Book 10\n",
    "def optimisePower(RL,PL):\n",
    "    PLMax = np.max(PL)\n",
    "    RLMax = RL[np.where(PL == PLMax)[0][0]]\n",
    "    return RLMax, PLMax\n",
    "RLMax, PLMax = optimisePower(RL,PL)\n",
    "print(RLMax)\n",
    "print(PLMax)"
   ]
  },
  {
   "cell_type": "code",
   "execution_count": null,
   "metadata": {},
   "outputs": [],
   "source": []
  }
 ],
 "metadata": {
  "kernelspec": {
   "display_name": "Python 3",
   "language": "python",
   "name": "python3"
  },
  "language_info": {
   "codemirror_mode": {
    "name": "ipython",
    "version": 3
   },
   "file_extension": ".py",
   "mimetype": "text/x-python",
   "name": "python",
   "nbconvert_exporter": "python",
   "pygments_lexer": "ipython3",
   "version": "3.7.6"
  }
 },
 "nbformat": 4,
 "nbformat_minor": 4
}
